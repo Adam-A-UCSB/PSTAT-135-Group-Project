{
 "cells": [
  {
   "cell_type": "markdown",
   "id": "98881814-6652-4ade-b8f1-37f3ca39557f",
   "metadata": {},
   "source": [
    "# Work for PSTAT 135 Group Project - Alexis Navarra"
   ]
  },
  {
   "cell_type": "code",
   "execution_count": 80,
   "id": "16754884-1164-460f-b7a3-337528424cd4",
   "metadata": {},
   "outputs": [],
   "source": [
    "# libraries\n",
    "import seaborn as sns\n",
    "import pandas as pd\n",
    "import matplotlib.pyplot as plt"
   ]
  },
  {
   "cell_type": "markdown",
   "id": "08c62b59-635b-4c97-85b2-6526cb496d49",
   "metadata": {},
   "source": [
    "## begin project EDA using Wyoming data"
   ]
  },
  {
   "cell_type": "code",
   "execution_count": 40,
   "id": "1bdd7ccc-b8e0-489e-9525-18482b289de0",
   "metadata": {},
   "outputs": [],
   "source": [
    "## read in data from personal directory\n",
    "#data = \"gs://pstat-135-an/notebooks/jupyter/data/\"\n",
    "#!gsutil ls {data + \"group-19-project-data\"}\n",
    "\n",
    "## read in parquet files\n",
    "bucket_dir = 'gs://pstat135-voter-file/VM2Uniform/'\n",
    "WY_df = spark.read.parquet(bucket_dir + 'VM2Uniform--WY--2021-01-13')"
   ]
  },
  {
   "cell_type": "code",
   "execution_count": 41,
   "id": "d2ff9e92-ccff-477c-87d0-413fb997ab33",
   "metadata": {
    "tags": []
   },
   "outputs": [],
   "source": [
    "## see all columns in dataset\n",
    "# WY_df.printSchema()"
   ]
  },
  {
   "cell_type": "markdown",
   "id": "d271f420-c0ac-41a8-9295-eafe3207df00",
   "metadata": {},
   "source": [
    "### Relevant Fields:\n",
    "LALVOTERID: string\n",
    "Board_of_Education_District: string\n",
    "County_Board_of_Education_District: string\n",
    "CommercialData_Education: string \n",
    "CommercialData_AreaMedianEducationYears: string \n",
    "CommercialDataLL_Interest_in_Education_Online_In_Household: string \n",
    "ElectionReturns_G08CountyTurnoutAllRegisteredVoters: string"
   ]
  },
  {
   "cell_type": "code",
   "execution_count": 68,
   "id": "d90b0bd6-bff7-4005-9bdf-229fd436eb66",
   "metadata": {},
   "outputs": [],
   "source": [
    "keep = ['LALVOTERID', 'County', 'Board_of_Education_District', 'County_Board_of_Education_District', \n",
    "        'CommercialData_Education', 'CommercialData_AreaMedianEducationYears', \n",
    "        'CommercialDataLL_Interest_in_Education_Online_In_Household', 'ElectionReturns_G08CountyTurnoutAllRegisteredVoters']\n",
    "#WY_df.select(keep).show(20)"
   ]
  },
  {
   "cell_type": "code",
   "execution_count": 65,
   "id": "a15b457f-71f4-41dc-be5f-3bb246ab3243",
   "metadata": {},
   "outputs": [],
   "source": [
    "## clean education level column\n",
    "ed_lvl_combine = when(WY_df.CommercialData_Education.like('Grad Degree%'), 'Grad Degree')\\\n",
    "                .when(WY_df.CommercialData_Education.like('Bach Degree%'), 'Bach Degree')\\\n",
    "                .when(WY_df.CommercialData_Education.like('Vocational Technical Degree%'), 'Vocational Technical Degree')\\\n",
    "                .when(WY_df.CommercialData_Education.like('Some College%'), 'Some College')\\\n",
    "                .when(WY_df.CommercialData_Education.like('HS Diploma%'), 'HS Diploma')\\\n",
    "                .when(WY_df.CommercialData_Education.like('Less than HS Diploma%'), 'Less Than HS Diploma')\\\n",
    "                .otherwise('Null')\n",
    "WY_df = WY_df.withColumn(\"Education_Lvl\", ed_lvl_combine)"
   ]
  },
  {
   "cell_type": "code",
   "execution_count": 69,
   "id": "cd04fd5c-106c-426e-a9d1-1a519ed502fc",
   "metadata": {},
   "outputs": [
    {
     "name": "stderr",
     "output_type": "stream",
     "text": [
      "[Stage 564:======================================>                  (2 + 1) / 3]\r"
     ]
    },
    {
     "name": "stdout",
     "output_type": "stream",
     "text": [
      "+--------------------+----------+--------------+\n",
      "|       Education_Lvl|num_voters|prcnt_of_total|\n",
      "+--------------------+----------+--------------+\n",
      "|Less Than HS Diploma|      5875|          2.02|\n",
      "|          HS Diploma|     53446|          18.4|\n",
      "|         Bach Degree|     47700|         16.43|\n",
      "|         Grad Degree|     24520|          8.44|\n",
      "|Vocational Techni...|       374|          0.13|\n",
      "|        Some College|     53566|         18.45|\n",
      "|                Null|    104927|         36.13|\n",
      "+--------------------+----------+--------------+\n",
      "\n"
     ]
    },
    {
     "name": "stderr",
     "output_type": "stream",
     "text": [
      "                                                                                \r"
     ]
    }
   ],
   "source": [
    "## find counts and proportions of each level of education for the state of Wyoming\n",
    "from pyspark.sql.functions import col, countDistinct, round, when\n",
    "\n",
    "total_state_voters = WY_df.select('LALVOTERID').count()\n",
    "\n",
    "ed_lvl_st_cnt = WY_df.groupBy(['Education_Lvl']).agg(countDistinct('LALVOTERID'))\n",
    "ed_lvl_st_cnt = ed_lvl_st_cnt.withColumnRenamed('count(LALVOTERID)', 'num_voters')\n",
    "ed_lvl_state = ed_lvl_st_cnt.withColumn('prcnt_of_total', round(((col('num_voters')/total_state_voters)*100), 2))\n",
    "ed_lvl_state.show()"
   ]
  },
  {
   "cell_type": "code",
   "execution_count": 82,
   "id": "2af4c226-72fb-47d5-afcc-b56d79b1b7c9",
   "metadata": {},
   "outputs": [
    {
     "data": {
      "text/plain": [
       "<AxesSubplot:ylabel='Education_Lvl'>"
      ]
     },
     "execution_count": 82,
     "metadata": {},
     "output_type": "execute_result"
    },
    {
     "data": {
      "image/png": "[encoded data removed]",
      "text/plain": [
       "<Figure size 640x480 with 1 Axes>"
      ]
     },
     "metadata": {},
     "output_type": "display_data"
    }
   ],
   "source": [
    "## visualize above\n",
    "\n",
    "ed_lvl_state_pd = ed_lvl_state.toPandas()\n",
    "ed_lvl_state_pd.plot(kind='barh', x='Education_Lvl', y='prcnt_of_total', colormap='winter_r')"
   ]
  },
  {
   "cell_type": "code",
   "execution_count": 72,
   "id": "9125e904-648a-4d57-bd13-b8d4533f5c99",
   "metadata": {},
   "outputs": [
    {
     "name": "stderr",
     "output_type": "stream",
     "text": [
      "                                                                                \r"
     ]
    },
    {
     "name": "stdout",
     "output_type": "stream",
     "text": [
      "+-------+--------------------+--------------+-----------+--------------+\n",
      "| County|       Education_Lvl|ed_level_total|voter_total|prcnt_of_total|\n",
      "+-------+--------------------+--------------+-----------+--------------+\n",
      "|JOHNSON|Less Than HS Diploma|            95|       5120|          1.86|\n",
      "|JOHNSON|                Null|          1595|       5120|         31.15|\n",
      "|JOHNSON|          HS Diploma|          1030|       5120|         20.12|\n",
      "|JOHNSON|Vocational Techni...|             8|       5120|          0.16|\n",
      "|JOHNSON|        Some College|           989|       5120|         19.32|\n",
      "|JOHNSON|         Bach Degree|           950|       5120|         18.55|\n",
      "|JOHNSON|         Grad Degree|           453|       5120|          8.85|\n",
      "| WESTON|                Null|          1142|       3626|         31.49|\n",
      "| WESTON|        Some College|           682|       3626|         18.81|\n",
      "| WESTON|          HS Diploma|           929|       3626|         25.62|\n",
      "| WESTON|Less Than HS Diploma|            92|       3626|          2.54|\n",
      "| WESTON|Vocational Techni...|             8|       3626|          0.22|\n",
      "| WESTON|         Bach Degree|           570|       3626|         15.72|\n",
      "| WESTON|         Grad Degree|           203|       3626|           5.6|\n",
      "|FREMONT|         Bach Degree|          3040|      19239|          15.8|\n",
      "|FREMONT|          HS Diploma|          3785|      19239|         19.67|\n",
      "|FREMONT|        Some College|          3463|      19239|          18.0|\n",
      "|FREMONT|Less Than HS Diploma|           580|      19239|          3.01|\n",
      "|FREMONT|                Null|          6808|      19239|         35.39|\n",
      "|FREMONT|Vocational Techni...|            25|      19239|          0.13|\n",
      "+-------+--------------------+--------------+-----------+--------------+\n",
      "only showing top 20 rows\n",
      "\n"
     ]
    }
   ],
   "source": [
    "## find counts and proportions of each level of education for each county in the state of Wyoming\n",
    "from pyspark.sql.functions import col, countDistinct, round\n",
    "\n",
    "county_voters = WY_df.groupBy('County').agg(countDistinct('LALVOTERID'))\n",
    "county_voters = county_voters.withColumn(\"voter_total\", col('count(LALVOTERID)')).drop(col('count(LALVOTERID)')) \n",
    "\n",
    "ed_lvl_county_cnt = WY_df.groupBy(['County','Education_Lvl']).agg(countDistinct('LALVOTERID'))\n",
    "ed_lvl_county_cnt = ed_lvl_county_cnt.withColumn(\"ed_level_total\", col('count(LALVOTERID)')).drop(col('count(LALVOTERID)')) \n",
    "ed_lvl_by_county = ed_lvl_county_cnt.join(county_voters, 'County')\n",
    "ed_lvl_by_county = ed_lvl_by_county.withColumn(\"prcnt_of_total\", round(((col(\"ed_level_total\")/col(\"voter_total\"))*100), 2))\n",
    "ed_lvl_by_county.show()"
   ]
  },
  {
   "cell_type": "code",
   "execution_count": 84,
   "id": "3ef6e321-8adb-410b-ae0c-957f2a7145c7",
   "metadata": {},
   "outputs": [
    {
     "name": "stderr",
     "output_type": "stream",
     "text": [
      "                                                                                \r"
     ]
    }
   ],
   "source": [
    "## visualize above\n",
    "## distribution of grad degrees per county\n",
    "grad_dgs_by_county = ed_lvl_by_county.filter(ed_lvl_by_county.Education_Lvl == \"Grad Degree\")\n",
    "grad_dgs_by_county_pd = grad_dgs_by_county.toPandas()\n",
    "#grad_dgs_by_county_pd.plot(kind='barh', x='County', y='prcnt_of_total', colormap='winter_r')\n",
    "\n",
    "## distribution of bach degrees per county\n",
    "bach_dgs_by_county = ed_lvl_by_county.filter(ed_lvl_by_county.Education_Lvl == \"Bach Degree\")\n",
    "bach_dgs_by_county_pd = bach_dgs_by_county.toPandas()\n",
    "#bach_dgs_by_county_pd.plot(kind='barh', x='County', y='prcnt_of_total', colormap='winter_r')\n",
    "\n",
    "## distribution of vocational technical degrees per county\n",
    "voc_dgs_by_county = ed_lvl_by_county.filter(ed_lvl_by_county.Education_Lvl == \"Vocational Technical Degree\")\n",
    "voc_dgs_by_county_pd = voc_dgs_by_county.toPandas()\n",
    "#voc_dgs_by_county_pd.plot(kind='barh', x='County', y='prcnt_of_total', colormap='winter_r')\n",
    "\n",
    "## distribution of some college per county\n",
    "some_col_by_county = ed_lvl_by_county.filter(ed_lvl_by_county.Education_Lvl == \"Some College\")\n",
    "some_col_by_county_pd = some_col_by_county.toPandas()\n",
    "#some_col_by_county_pd.plot(kind='barh', x='County', y='prcnt_of_total', colormap='winter_r')\n",
    "\n",
    "## distribution of hs diploma per county\n",
    "hs_dip_by_county = ed_lvl_by_county.filter(ed_lvl_by_county.Education_Lvl == \"HS Diploma\")\n",
    "hs_dip_by_county_pd = hs_dip_by_county.toPandas()\n",
    "#hs_dip_by_county_pd.plot(kind='barh', x='County', y='prcnt_of_total', colormap='winter_r')\n",
    "\n",
    "## distribution of less than hs diploma per county\n",
    "less_thn_hs_by_county = ed_lvl_by_county.filter(ed_lvl_by_county.Education_Lvl == \"Less Than HS Diploma\")\n",
    "less_thn_hs_by_county_pd = less_thn_hs_by_county.toPandas()\n",
    "#less_than_hs_by_county_pd.plot(kind='barh', x='County', y='prcnt_of_total', colormap='winter_r')\n",
    "\n",
    "## distribution of null education level per county\n",
    "null_ed_lvl_by_county = ed_lvl_by_county.filter(ed_lvl_by_county.Education_Lvl == \"Null\")\n",
    "null_ed_lvl_by_county_pd = null_ed_lvl_by_county.toPandas()\n",
    "#null_ed_lvl_by_county_pd.plot(kind='barh', x='County', y='prcnt_of_total', colormap='winter_r')\n",
    "\n",
    "## merge plots (somehow)"
   ]
  },
  {
   "cell_type": "code",
   "execution_count": null,
   "id": "a5bd580e-2eab-4b4c-a0a6-4385a9aaea4a",
   "metadata": {},
   "outputs": [],
   "source": []
  }
 ],
 "metadata": {
  "kernelspec": {
   "display_name": "PySpark",
   "language": "python",
   "name": "pyspark"
  },
  "language_info": {
   "codemirror_mode": {
    "name": "ipython",
    "version": 3
   },
   "file_extension": ".py",
   "mimetype": "text/x-python",
   "name": "python",
   "nbconvert_exporter": "python",
   "pygments_lexer": "ipython3",
   "version": "3.8.15"
  }
 },
 "nbformat": 4,
 "nbformat_minor": 5
}